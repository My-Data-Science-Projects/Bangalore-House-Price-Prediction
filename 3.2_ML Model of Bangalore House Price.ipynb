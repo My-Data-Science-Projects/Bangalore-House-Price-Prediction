{
 "metadata": {
  "language_info": {
   "codemirror_mode": {
    "name": "ipython",
    "version": 3
   },
   "file_extension": ".py",
   "mimetype": "text/x-python",
   "name": "python",
   "nbconvert_exporter": "python",
   "pygments_lexer": "ipython3",
   "version": "3.9.1"
  },
  "orig_nbformat": 4,
  "kernelspec": {
   "name": "python3",
   "display_name": "Python 3.9.1 64-bit"
  },
  "interpreter": {
   "hash": "ecda20238df2ed8e9d74a8333869d6ab36a80806eec0e5f6f1311a96726d7d59"
  }
 },
 "nbformat": 4,
 "nbformat_minor": 2,
 "cells": [
  {
   "source": [
    "# Bangalore House Price Prediction - Outlier Detection\n",
    "\n",
    "#### This notebook only train ML model on different ml algorithms"
   ],
   "cell_type": "markdown",
   "metadata": {}
  },
  {
   "cell_type": "code",
   "execution_count": 35,
   "metadata": {},
   "outputs": [],
   "source": [
    "import numpy as np\n",
    "import pandas as pd\n",
    "import matplotlib.pyplot as plt\n",
    "import seaborn as sns\n",
    "from sklearn.model_selection import train_test_split\n",
    "from sklearn.preprocessing import StandardScaler\n",
    "from sklearn.decomposition import PCA\n",
    "from sklearn.pipeline import Pipeline\n",
    "from sklearn.linear_model import LinearRegression\n",
    "from sklearn.svm import SVR\n",
    "from sklearn.ensemble import RandomForestRegressor"
   ]
  },
  {
   "cell_type": "code",
   "execution_count": 36,
   "metadata": {},
   "outputs": [],
   "source": [
    "pd.set_option(\"display.max_columns\", None)\n",
    "pd.set_option(\"display.max_rows\", None)"
   ]
  },
  {
   "cell_type": "code",
   "execution_count": 37,
   "metadata": {},
   "outputs": [
    {
     "output_type": "execute_result",
     "data": {
      "text/plain": [
       "(7120, 6)"
      ]
     },
     "metadata": {},
     "execution_count": 37
    }
   ],
   "source": [
    "# This file contain [area_type\tavailability\tlocation\tbath\tbalcony\tprice\ttotal_sqft_int\tbhk\tprice_per_sqft]\n",
    "# and ['area_type','availability','location'] this are cat var\n",
    "# We encoded few classes from above cat var in OHE\n",
    "\n",
    "df = pd.read_csv('clean_data.csv')\n",
    "df.shape"
   ]
  },
  {
   "cell_type": "code",
   "execution_count": 38,
   "metadata": {},
   "outputs": [
    {
     "output_type": "execute_result",
     "data": {
      "text/plain": [
       "      bath  balcony  price  total_sqft_int  bhk  price_per_sqft\n",
       "4293   1.0      1.0   52.0           703.0    1     7396.870555\n",
       "4371   3.0      3.0  140.0          1724.0    3     8120.649652\n",
       "6987   3.0      2.0  108.0          1890.0    3     5714.285714\n",
       "5980   4.0      2.0  400.0          5480.0    3     7299.270073\n",
       "5156   2.0      2.0   52.0          1076.0    2     4832.713755"
      ],
      "text/html": "<div>\n<style scoped>\n    .dataframe tbody tr th:only-of-type {\n        vertical-align: middle;\n    }\n\n    .dataframe tbody tr th {\n        vertical-align: top;\n    }\n\n    .dataframe thead th {\n        text-align: right;\n    }\n</style>\n<table border=\"1\" class=\"dataframe\">\n  <thead>\n    <tr style=\"text-align: right;\">\n      <th></th>\n      <th>bath</th>\n      <th>balcony</th>\n      <th>price</th>\n      <th>total_sqft_int</th>\n      <th>bhk</th>\n      <th>price_per_sqft</th>\n    </tr>\n  </thead>\n  <tbody>\n    <tr>\n      <th>4293</th>\n      <td>1.0</td>\n      <td>1.0</td>\n      <td>52.0</td>\n      <td>703.0</td>\n      <td>1</td>\n      <td>7396.870555</td>\n    </tr>\n    <tr>\n      <th>4371</th>\n      <td>3.0</td>\n      <td>3.0</td>\n      <td>140.0</td>\n      <td>1724.0</td>\n      <td>3</td>\n      <td>8120.649652</td>\n    </tr>\n    <tr>\n      <th>6987</th>\n      <td>3.0</td>\n      <td>2.0</td>\n      <td>108.0</td>\n      <td>1890.0</td>\n      <td>3</td>\n      <td>5714.285714</td>\n    </tr>\n    <tr>\n      <th>5980</th>\n      <td>4.0</td>\n      <td>2.0</td>\n      <td>400.0</td>\n      <td>5480.0</td>\n      <td>3</td>\n      <td>7299.270073</td>\n    </tr>\n    <tr>\n      <th>5156</th>\n      <td>2.0</td>\n      <td>2.0</td>\n      <td>52.0</td>\n      <td>1076.0</td>\n      <td>2</td>\n      <td>4832.713755</td>\n    </tr>\n  </tbody>\n</table>\n</div>"
     },
     "metadata": {},
     "execution_count": 38
    }
   ],
   "source": [
    "df.sample(5)"
   ]
  },
  {
   "source": [
    "## Split Dataset in train and test"
   ],
   "cell_type": "markdown",
   "metadata": {}
  },
  {
   "cell_type": "code",
   "execution_count": 39,
   "metadata": {},
   "outputs": [
    {
     "output_type": "stream",
     "name": "stdout",
     "text": [
      "Shape of X: (7120, 5)\nShape of y: (7120,)\n"
     ]
    }
   ],
   "source": [
    "X = df.drop('price', axis=1)\n",
    "y = df['price']\n",
    "print(\"Shape of X:\", X.shape)\n",
    "print(\"Shape of y:\", y.shape)"
   ]
  },
  {
   "cell_type": "code",
   "execution_count": 40,
   "metadata": {},
   "outputs": [
    {
     "output_type": "stream",
     "name": "stdout",
     "text": [
      "Shape of X_train: (5696, 5)\nShape of y_train: (5696,)\nShape of X_test: (1424, 5)\nShape of y_test: (1424,)\n"
     ]
    }
   ],
   "source": [
    "X_train, X_test, y_train, y_test = train_test_split(X, y, test_size=0.2, random_state=51)\n",
    "print(\"Shape of X_train:\", X_train.shape)\n",
    "print(\"Shape of y_train:\", y_train.shape)\n",
    "print(\"Shape of X_test:\", X_test.shape)\n",
    "print(\"Shape of y_test:\", y_test.shape)"
   ]
  },
  {
   "source": [
    "## Feature Scaling"
   ],
   "cell_type": "markdown",
   "metadata": {}
  },
  {
   "source": [
    "## Machine Learning Model Training"
   ],
   "cell_type": "markdown",
   "metadata": {}
  },
  {
   "cell_type": "code",
   "execution_count": 41,
   "metadata": {},
   "outputs": [],
   "source": [
    "pipeline_lr = Pipeline([('scalar1', StandardScaler()),\n",
    "                        ('pca1', PCA(n_components=2)),\n",
    "                        ('lr_reg', LinearRegression())])"
   ]
  },
  {
   "cell_type": "code",
   "execution_count": 42,
   "metadata": {},
   "outputs": [],
   "source": [
    "pipeline_svr = Pipeline([('scalar2', StandardScaler()),\n",
    "                        ('pca2', PCA(n_components=2)),\n",
    "                        ('svr_reg', SVR())])"
   ]
  },
  {
   "cell_type": "code",
   "execution_count": 43,
   "metadata": {},
   "outputs": [],
   "source": [
    "pipeline_rfr = Pipeline([('scalar3', StandardScaler()),\n",
    "                        ('pca3', PCA(n_components=2)),\n",
    "                        ('rf_reg', RandomForestRegressor())])"
   ]
  },
  {
   "cell_type": "code",
   "execution_count": 44,
   "metadata": {},
   "outputs": [],
   "source": [
    "pipelines = [pipeline_lr, pipeline_svr, pipeline_rfr]"
   ]
  },
  {
   "cell_type": "code",
   "execution_count": 45,
   "metadata": {},
   "outputs": [],
   "source": [
    "best_accuracy = 0.0\n",
    "best_regressor = 0\n",
    "best_pipeline = \"\""
   ]
  },
  {
   "cell_type": "code",
   "execution_count": 46,
   "metadata": {},
   "outputs": [],
   "source": [
    "pipe_dict = {0: 'Linear Regression', 1: 'SVR', 2: 'RandomForest'}\n",
    "\n",
    "for pipe in pipelines:\n",
    "    pipe.fit(X_train, y_train)"
   ]
  },
  {
   "cell_type": "code",
   "execution_count": 47,
   "metadata": {},
   "outputs": [
    {
     "output_type": "stream",
     "name": "stdout",
     "text": [
      "Linear Regression Test Accuracy: 0.6839996247076763\n",
      "SVR Test Accuracy: 0.24985115349908416\n",
      "RandomForest Test Accuracy: 0.8931150682212671\n"
     ]
    }
   ],
   "source": [
    "for i, model in enumerate(pipelines):\n",
    "    print(\"{} Test Accuracy: {}\".format(pipe_dict[i], model.score(X_test, y_test)))"
   ]
  },
  {
   "cell_type": "code",
   "execution_count": 48,
   "metadata": {},
   "outputs": [
    {
     "output_type": "stream",
     "name": "stdout",
     "text": [
      "Regressor with Best Accuracy:RandomForest\n"
     ]
    }
   ],
   "source": [
    "for i, model in enumerate(pipelines):\n",
    "    if model.score(X_test, y_test) > best_accuracy:\n",
    "        best_accuracy = model.score(X_test, y_test)\n",
    "        best_pipeline = model\n",
    "        best_regressor = i\n",
    "\n",
    "print(\"Regressor with Best Accuracy:{}\".format(pipe_dict[best_regressor]))"
   ]
  },
  {
   "source": [
    "## Test Model"
   ],
   "cell_type": "markdown",
   "metadata": {}
  },
  {
   "cell_type": "code",
   "execution_count": 49,
   "metadata": {},
   "outputs": [
    {
     "output_type": "execute_result",
     "data": {
      "text/plain": [
       "['bath', 'balcony', 'total_sqft_int', 'bhk', 'price_per_sqft']"
      ]
     },
     "metadata": {},
     "execution_count": 49
    }
   ],
   "source": [
    "list(X.columns)"
   ]
  },
  {
   "cell_type": "code",
   "execution_count": 50,
   "metadata": {},
   "outputs": [],
   "source": [
    "# it help to get predicted value of hosue  by providing features value \n",
    "def predict_house_price(model,bath,balcony,total_sqft_int,bhk,price_per_sqft):\n",
    "\n",
    "  x =np.zeros(len(X.columns)) # create zero numpy array, len = 107 as input value for model\n",
    "\n",
    "  # adding feature's value accorind to their column index\n",
    "  x[0]=bath\n",
    "  x[1]=balcony\n",
    "  x[2]=total_sqft_int\n",
    "  x[3]=bhk\n",
    "  x[4]=price_per_sqft\n",
    "\n",
    "  #print(x)\n",
    "\n",
    "  # feature scaling\n",
    "  # x = sc.transform([x])[0] # give 2d np array for feature scaling and get 1d scaled np array\n",
    "  #print(x)\n",
    "\n",
    "  return model.predict([x])[0] # return the predicted value by train XGBoost model"
   ]
  },
  {
   "cell_type": "code",
   "execution_count": 51,
   "metadata": {},
   "outputs": [
    {
     "output_type": "execute_result",
     "data": {
      "text/plain": [
       "      bath  balcony   price  total_sqft_int  bhk  price_per_sqft\n",
       "3759   2.0      2.0   60.00          1415.0    2     4240.282686\n",
       "6258   4.0      2.0  122.00          1930.0    3     6321.243523\n",
       "2128   2.0      1.0   28.88          1000.0    2     2888.000000"
      ],
      "text/html": "<div>\n<style scoped>\n    .dataframe tbody tr th:only-of-type {\n        vertical-align: middle;\n    }\n\n    .dataframe tbody tr th {\n        vertical-align: top;\n    }\n\n    .dataframe thead th {\n        text-align: right;\n    }\n</style>\n<table border=\"1\" class=\"dataframe\">\n  <thead>\n    <tr style=\"text-align: right;\">\n      <th></th>\n      <th>bath</th>\n      <th>balcony</th>\n      <th>price</th>\n      <th>total_sqft_int</th>\n      <th>bhk</th>\n      <th>price_per_sqft</th>\n    </tr>\n  </thead>\n  <tbody>\n    <tr>\n      <th>3759</th>\n      <td>2.0</td>\n      <td>2.0</td>\n      <td>60.00</td>\n      <td>1415.0</td>\n      <td>2</td>\n      <td>4240.282686</td>\n    </tr>\n    <tr>\n      <th>6258</th>\n      <td>4.0</td>\n      <td>2.0</td>\n      <td>122.00</td>\n      <td>1930.0</td>\n      <td>3</td>\n      <td>6321.243523</td>\n    </tr>\n    <tr>\n      <th>2128</th>\n      <td>2.0</td>\n      <td>1.0</td>\n      <td>28.88</td>\n      <td>1000.0</td>\n      <td>2</td>\n      <td>2888.000000</td>\n    </tr>\n  </tbody>\n</table>\n</div>"
     },
     "metadata": {},
     "execution_count": 51
    }
   ],
   "source": [
    "# Sample df\n",
    "df.sample(3)"
   ]
  },
  {
   "cell_type": "code",
   "execution_count": 52,
   "metadata": {},
   "outputs": [
    {
     "output_type": "execute_result",
     "data": {
      "text/plain": [
       "66.00060000000008"
      ]
     },
     "metadata": {},
     "execution_count": 52
    }
   ],
   "source": [
    "predict_house_price(model=pipeline_rfr, \n",
    "                    bath=3,\n",
    "                    balcony=2,\n",
    "                    total_sqft_int=1440,\n",
    "                    bhk=3,\n",
    "                    price_per_sqft=4569)"
   ]
  },
  {
   "cell_type": "code",
   "execution_count": 53,
   "metadata": {},
   "outputs": [
    {
     "output_type": "execute_result",
     "data": {
      "text/plain": [
       "154.55"
      ]
     },
     "metadata": {},
     "execution_count": 53
    }
   ],
   "source": [
    "predict_house_price(model=pipeline_rfr, \n",
    "                    bath=3,\n",
    "                    balcony=2,\n",
    "                    total_sqft_int=1850,\n",
    "                    bhk=3,\n",
    "                    price_per_sqft=8378)"
   ]
  },
  {
   "source": [
    "# Save & Load Model"
   ],
   "cell_type": "markdown",
   "metadata": {}
  },
  {
   "cell_type": "code",
   "execution_count": 54,
   "metadata": {},
   "outputs": [],
   "source": [
    "import pickle"
   ]
  },
  {
   "cell_type": "code",
   "execution_count": 55,
   "metadata": {},
   "outputs": [],
   "source": [
    "# save model\n",
    "\n",
    "pickle.dump(pipeline_rfr, open('rfr.pkl', 'wb'))"
   ]
  },
  {
   "cell_type": "code",
   "execution_count": 56,
   "metadata": {},
   "outputs": [],
   "source": [
    "# load model\n",
    "\n",
    "rfr_model = pickle.load(open('rfr.pkl', 'rb'))"
   ]
  },
  {
   "cell_type": "code",
   "execution_count": 57,
   "metadata": {},
   "outputs": [
    {
     "output_type": "execute_result",
     "data": {
      "text/plain": [
       "154.55"
      ]
     },
     "metadata": {},
     "execution_count": 57
    }
   ],
   "source": [
    "predict_house_price(model=rfr_model, \n",
    "                    bath=3,\n",
    "                    balcony=2,\n",
    "                    total_sqft_int=1850,\n",
    "                    bhk=3,\n",
    "                    price_per_sqft=8378)"
   ]
  },
  {
   "cell_type": "code",
   "execution_count": null,
   "metadata": {},
   "outputs": [],
   "source": []
  }
 ]
}